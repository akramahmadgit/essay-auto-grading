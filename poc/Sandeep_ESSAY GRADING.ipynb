{
 "cells": [
  {
   "cell_type": "code",
   "execution_count": 2,
   "metadata": {},
   "outputs": [],
   "source": [
    "import os \n",
    "os.chdir('E:/sandy/NLP INTERNSHIP')"
   ]
  },
  {
   "cell_type": "code",
   "execution_count": 14,
   "metadata": {},
   "outputs": [],
   "source": [
    "import codecs\n",
    "import pandas as pd\n",
    "import numpy as np\n",
    "from sklearn.model_selection import train_test_split\n",
    "\n",
    "#Used to generate the same set of random numbers when random function is called\n",
    "np.random.seed(7)\n",
    "\n",
    "#Read The TSV Data File\n",
    "df = pd.read_table('train.tsv')\n",
    "df1 = pd.read_table('train_rel_2.tsv')\n",
    "\n",
    "#Because of small size of the dataset O merged both datasets given for training\n",
    "df = [df, df1]\n",
    "df = pd.concat(df)\n",
    "\n",
    "\n",
    "#essay_text = data['EssayText']\n",
    "#essay_score = data['Score1']\n",
    "#essay_set = data['EssaySet']"
   ]
  },
  {
   "cell_type": "code",
   "execution_count": 15,
   "metadata": {},
   "outputs": [
    {
     "data": {
      "text/plain": [
       "(34250, 5)"
      ]
     },
     "execution_count": 15,
     "metadata": {},
     "output_type": "execute_result"
    }
   ],
   "source": [
    "df.shape"
   ]
  },
  {
   "cell_type": "code",
   "execution_count": null,
   "metadata": {},
   "outputs": [],
   "source": [
    "## \n",
    "# RAW DATA ENCODING\n",
    "# Format the text samples and labels into tensors that can be fed into a neural network\n",
    "##\n",
    "from keras.preprocessing.text import Tokenizer\n",
    "from keras.preprocessing.sequence import pad_sequences\n",
    "from keras.utils.np_utils import to_categorical\n",
    "\n",
    "sets = [0,1,2,3] # The 4 different classes of Scores\n"
   ]
  }
 ],
 "metadata": {
  "kernelspec": {
   "display_name": "Python 3",
   "language": "python",
   "name": "python3"
  },
  "language_info": {
   "codemirror_mode": {
    "name": "ipython",
    "version": 3
   },
   "file_extension": ".py",
   "mimetype": "text/x-python",
   "name": "python",
   "nbconvert_exporter": "python",
   "pygments_lexer": "ipython3",
   "version": "3.7.6"
  }
 },
 "nbformat": 4,
 "nbformat_minor": 4
}
