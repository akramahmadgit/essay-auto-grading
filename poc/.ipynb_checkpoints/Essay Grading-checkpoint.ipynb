{
 "cells": [
  {
   "cell_type": "markdown",
   "metadata": {},
   "source": [
    "# Automatic Essay Grading"
   ]
  },
  {
   "cell_type": "markdown",
   "metadata": {},
   "source": [
    "#### Import Libraries"
   ]
  },
  {
   "cell_type": "code",
   "execution_count": 1,
   "metadata": {},
   "outputs": [],
   "source": [
    "import numpy as np\n",
    "import pandas as pd"
   ]
  },
  {
   "cell_type": "code",
   "execution_count": 2,
   "metadata": {},
   "outputs": [
    {
     "name": "stderr",
     "output_type": "stream",
     "text": [
      "Using TensorFlow backend.\n",
      "D:\\Anaconda\\lib\\site-packages\\tensorflow\\python\\framework\\dtypes.py:516: FutureWarning: Passing (type, 1) or '1type' as a synonym of type is deprecated; in a future version of numpy, it will be understood as (type, (1,)) / '(1,)type'.\n",
      "  _np_qint8 = np.dtype([(\"qint8\", np.int8, 1)])\n",
      "D:\\Anaconda\\lib\\site-packages\\tensorflow\\python\\framework\\dtypes.py:517: FutureWarning: Passing (type, 1) or '1type' as a synonym of type is deprecated; in a future version of numpy, it will be understood as (type, (1,)) / '(1,)type'.\n",
      "  _np_quint8 = np.dtype([(\"quint8\", np.uint8, 1)])\n",
      "D:\\Anaconda\\lib\\site-packages\\tensorflow\\python\\framework\\dtypes.py:518: FutureWarning: Passing (type, 1) or '1type' as a synonym of type is deprecated; in a future version of numpy, it will be understood as (type, (1,)) / '(1,)type'.\n",
      "  _np_qint16 = np.dtype([(\"qint16\", np.int16, 1)])\n",
      "D:\\Anaconda\\lib\\site-packages\\tensorflow\\python\\framework\\dtypes.py:519: FutureWarning: Passing (type, 1) or '1type' as a synonym of type is deprecated; in a future version of numpy, it will be understood as (type, (1,)) / '(1,)type'.\n",
      "  _np_quint16 = np.dtype([(\"quint16\", np.uint16, 1)])\n",
      "D:\\Anaconda\\lib\\site-packages\\tensorflow\\python\\framework\\dtypes.py:520: FutureWarning: Passing (type, 1) or '1type' as a synonym of type is deprecated; in a future version of numpy, it will be understood as (type, (1,)) / '(1,)type'.\n",
      "  _np_qint32 = np.dtype([(\"qint32\", np.int32, 1)])\n",
      "D:\\Anaconda\\lib\\site-packages\\tensorflow\\python\\framework\\dtypes.py:525: FutureWarning: Passing (type, 1) or '1type' as a synonym of type is deprecated; in a future version of numpy, it will be understood as (type, (1,)) / '(1,)type'.\n",
      "  np_resource = np.dtype([(\"resource\", np.ubyte, 1)])\n",
      "D:\\Anaconda\\lib\\site-packages\\tensorboard\\compat\\tensorflow_stub\\dtypes.py:541: FutureWarning: Passing (type, 1) or '1type' as a synonym of type is deprecated; in a future version of numpy, it will be understood as (type, (1,)) / '(1,)type'.\n",
      "  _np_qint8 = np.dtype([(\"qint8\", np.int8, 1)])\n",
      "D:\\Anaconda\\lib\\site-packages\\tensorboard\\compat\\tensorflow_stub\\dtypes.py:542: FutureWarning: Passing (type, 1) or '1type' as a synonym of type is deprecated; in a future version of numpy, it will be understood as (type, (1,)) / '(1,)type'.\n",
      "  _np_quint8 = np.dtype([(\"quint8\", np.uint8, 1)])\n",
      "D:\\Anaconda\\lib\\site-packages\\tensorboard\\compat\\tensorflow_stub\\dtypes.py:543: FutureWarning: Passing (type, 1) or '1type' as a synonym of type is deprecated; in a future version of numpy, it will be understood as (type, (1,)) / '(1,)type'.\n",
      "  _np_qint16 = np.dtype([(\"qint16\", np.int16, 1)])\n",
      "D:\\Anaconda\\lib\\site-packages\\tensorboard\\compat\\tensorflow_stub\\dtypes.py:544: FutureWarning: Passing (type, 1) or '1type' as a synonym of type is deprecated; in a future version of numpy, it will be understood as (type, (1,)) / '(1,)type'.\n",
      "  _np_quint16 = np.dtype([(\"quint16\", np.uint16, 1)])\n",
      "D:\\Anaconda\\lib\\site-packages\\tensorboard\\compat\\tensorflow_stub\\dtypes.py:545: FutureWarning: Passing (type, 1) or '1type' as a synonym of type is deprecated; in a future version of numpy, it will be understood as (type, (1,)) / '(1,)type'.\n",
      "  _np_qint32 = np.dtype([(\"qint32\", np.int32, 1)])\n",
      "D:\\Anaconda\\lib\\site-packages\\tensorboard\\compat\\tensorflow_stub\\dtypes.py:550: FutureWarning: Passing (type, 1) or '1type' as a synonym of type is deprecated; in a future version of numpy, it will be understood as (type, (1,)) / '(1,)type'.\n",
      "  np_resource = np.dtype([(\"resource\", np.ubyte, 1)])\n"
     ]
    }
   ],
   "source": [
    "from keras.preprocessing.text import Tokenizer\n",
    "from keras.preprocessing.sequence import pad_sequences\n",
    "from keras.utils.np_utils import to_categorical\n",
    "from collections import Counter"
   ]
  },
  {
   "cell_type": "code",
   "execution_count": 3,
   "metadata": {},
   "outputs": [],
   "source": [
    "from nltk.tokenize import word_tokenize, sent_tokenize\n",
    "from nltk.corpus import stopwords\n",
    "from nltk.stem import WordNetLemmatizer"
   ]
  },
  {
   "cell_type": "code",
   "execution_count": 4,
   "metadata": {},
   "outputs": [],
   "source": [
    "from keras.layers.merge import concatenate\n",
    "from keras.layers import Dense, Dropout, Activation, Input\n",
    "from keras.layers import LSTM,merge\n",
    "from keras.models import Model\n",
    "from keras.layers.embeddings import Embedding\n",
    "from keras.optimizers import Adam\n",
    "from keras.layers.advanced_activations import ELU\n",
    "from keras.regularizers import l2"
   ]
  },
  {
   "cell_type": "code",
   "execution_count": 5,
   "metadata": {},
   "outputs": [
    {
     "name": "stdout",
     "output_type": "stream",
     "text": [
      "Package                            Version            \n",
      "---------------------------------- -------------------\n",
      "absl-py                            0.10.0             \n",
      "alabaster                          0.7.12             \n",
      "anaconda-client                    1.7.2              \n",
      "anaconda-navigator                 1.9.12             \n",
      "anaconda-project                   0.8.3              \n",
      "argh                               0.26.2             \n",
      "arviz                              0.9.0              \n",
      "asn1crypto                         1.3.0              \n",
      "astor                              0.8.1              \n",
      "astroid                            2.3.3              \n",
      "astropy                            4.0                \n",
      "atomicwrites                       1.3.0              \n",
      "attrs                              19.3.0             \n",
      "autoimpute                         0.12.0             \n",
      "autopep8                           1.4.4              \n",
      "Babel                              2.8.0              \n",
      "backcall                           0.1.0              \n",
      "backports.functools-lru-cache      1.6.1              \n",
      "backports.shutil-get-terminal-size 1.0.0              \n",
      "backports.tempfile                 1.0                \n",
      "backports.weakref                  1.0.post1          \n",
      "bcrypt                             3.1.7              \n",
      "beautifulsoup4                     4.8.2              \n",
      "bitarray                           1.2.1              \n",
      "bkcharts                           0.2                \n",
      "bleach                             3.1.0              \n",
      "bokeh                              1.4.0              \n",
      "boto                               2.49.0             \n",
      "Bottleneck                         1.3.2              \n",
      "certifi                            2019.11.28         \n",
      "cffi                               1.14.0             \n",
      "cftime                             1.1.3              \n",
      "chardet                            3.0.4              \n",
      "Click                              7.0                \n",
      "cloudpickle                        1.3.0              \n",
      "clyent                             1.2.2              \n",
      "colorama                           0.4.3              \n",
      "comtypes                           1.1.7              \n",
      "conda                              4.9.2              \n",
      "conda-build                        3.18.11            \n",
      "conda-package-handling             1.6.0              \n",
      "conda-verify                       3.4.2              \n",
      "contextlib2                        0.6.0.post1        \n",
      "cryptography                       2.8                \n",
      "cycler                             0.10.0             \n",
      "Cython                             0.29.15            \n",
      "cytoolz                            0.10.1             \n",
      "dask                               2.11.0             \n",
      "decorator                          4.4.1              \n",
      "defusedxml                         0.6.0              \n",
      "diff-match-patch                   20181111           \n",
      "distributed                        2.11.0             \n",
      "docutils                           0.16               \n",
      "entrypoints                        0.3                \n",
      "et-xmlfile                         1.0.1              \n",
      "fastcache                          1.1.0              \n",
      "fastprogress                       0.2.3              \n",
      "filelock                           3.0.12             \n",
      "flake8                             3.7.9              \n",
      "Flask                              1.1.1              \n",
      "Flask-Cors                         3.0.8              \n",
      "fsspec                             0.6.2              \n",
      "future                             0.18.2             \n",
      "gast                               0.4.0              \n",
      "gevent                             1.4.0              \n",
      "glob2                              0.7                \n",
      "graphviz                           0.14.2             \n",
      "greenlet                           0.4.15             \n",
      "grpcio                             1.27.2             \n",
      "h5py                               2.10.0             \n",
      "HeapDict                           1.0.1              \n",
      "html5lib                           1.0.1              \n",
      "hypothesis                         5.5.4              \n",
      "idna                               2.8                \n",
      "imageio                            2.6.1              \n",
      "imagesize                          1.2.0              \n",
      "imbalanced-learn                   0.7.0              \n",
      "imblearn                           0.0                \n",
      "importlib-metadata                 2.0.0              \n",
      "intervaltree                       3.0.2              \n",
      "ipykernel                          5.1.4              \n",
      "ipython                            7.12.0             \n",
      "ipython-genutils                   0.2.0              \n",
      "ipywidgets                         7.5.1              \n",
      "isort                              4.3.21             \n",
      "itsdangerous                       1.1.0              \n",
      "jdcal                              1.4.1              \n",
      "jedi                               0.14.1             \n",
      "Jinja2                             2.11.1             \n",
      "joblib                             0.14.1             \n",
      "json5                              0.9.1              \n",
      "jsonschema                         3.2.0              \n",
      "jupyter                            1.0.0              \n",
      "jupyter-client                     5.3.4              \n",
      "jupyter-console                    6.1.0              \n",
      "jupyter-core                       4.6.1              \n",
      "jupyterlab                         1.2.6              \n",
      "jupyterlab-server                  1.0.6              \n",
      "Keras                              2.3.1              \n",
      "Keras-Applications                 1.0.8              \n",
      "Keras-Preprocessing                1.1.0              \n",
      "keyring                            21.1.0             \n",
      "kiwisolver                         1.1.0              \n",
      "lazy-object-proxy                  1.4.3              \n",
      "libarchive-c                       2.8                \n",
      "llvmlite                           0.31.0             \n",
      "locket                             0.2.0              \n",
      "lxml                               4.5.0              \n",
      "Markdown                           3.3.1              \n",
      "MarkupSafe                         1.1.1              \n",
      "matplotlib                         3.1.3              \n",
      "mccabe                             0.6.1              \n",
      "menuinst                           1.4.16             \n",
      "missingno                          0.4.2              \n",
      "mistune                            0.8.4              \n",
      "mkl-fft                            1.0.15             \n",
      "mkl-random                         1.1.0              \n",
      "mkl-service                        2.3.0              \n",
      "mock                               4.0.1              \n",
      "more-itertools                     8.2.0              \n",
      "mpmath                             1.1.0              \n",
      "msgpack                            0.6.1              \n",
      "multipledispatch                   0.6.0              \n",
      "navigator-updater                  0.2.1              \n",
      "nbconvert                          5.6.1              \n",
      "nbformat                           5.0.4              \n",
      "netCDF4                            1.5.3              \n",
      "networkx                           2.4                \n",
      "nltk                               3.4.5              \n",
      "nose                               1.3.7              \n",
      "notebook                           6.0.3              \n",
      "numba                              0.48.0             \n",
      "numexpr                            2.7.1              \n",
      "numpy                              1.18.1             \n",
      "numpydoc                           0.9.2              \n",
      "olefile                            0.46               \n",
      "openpyxl                           3.0.3              \n",
      "packaging                          20.1               \n",
      "pandas                             1.0.1              \n",
      "pandocfilters                      1.4.2              \n",
      "paramiko                           2.7.1              \n",
      "parso                              0.5.2              \n",
      "partd                              1.1.0              \n",
      "path                               13.1.0             \n",
      "pathlib2                           2.3.5              \n",
      "pathtools                          0.1.2              \n",
      "patsy                              0.5.1              \n",
      "pep8                               1.7.1              \n",
      "pexpect                            4.8.0              \n",
      "pickleshare                        0.7.5              \n",
      "Pillow                             7.0.0              \n",
      "pip                                20.0.2             \n",
      "pkginfo                            1.5.0.1            \n",
      "pluggy                             0.13.1             \n",
      "ply                                3.11               \n",
      "prometheus-client                  0.7.1              \n",
      "prompt-toolkit                     3.0.3              \n",
      "protobuf                           3.13.0             \n",
      "psutil                             5.6.7              \n",
      "py                                 1.8.1              \n",
      "pycodestyle                        2.5.0              \n",
      "pycosat                            0.6.3              \n",
      "pycparser                          2.19               \n",
      "pycrypto                           2.6.1              \n",
      "pycurl                             7.43.0.5           \n",
      "pydocstyle                         4.0.1              \n",
      "pydot                              1.4.1              \n",
      "pydotplus                          2.0.2              \n",
      "pyflakes                           2.1.1              \n",
      "Pygments                           2.5.2              \n",
      "pylint                             2.4.4              \n",
      "pymc3                              3.9.2              \n",
      "pymongo                            3.9.0              \n",
      "PyNaCl                             1.3.0              \n",
      "pyodbc                             4.0.0-unsupported  \n",
      "pyOpenSSL                          19.1.0             \n",
      "pyparsing                          2.4.6              \n",
      "pyreadline                         2.1                \n",
      "pyrsistent                         0.15.7             \n",
      "PySocks                            1.7.1              \n",
      "pyspellchecker                     0.5.5              \n",
      "pytest                             5.3.5              \n",
      "pytest-arraydiff                   0.3                \n",
      "pytest-astropy                     0.8.0              \n",
      "pytest-astropy-header              0.1.2              \n",
      "pytest-doctestplus                 0.5.0              \n",
      "pytest-openfiles                   0.4.0              \n",
      "pytest-remotedata                  0.3.2              \n",
      "python-dateutil                    2.8.1              \n",
      "python-jsonrpc-server              0.3.4              \n",
      "python-language-server             0.31.7             \n",
      "pyts                               0.11.0             \n",
      "pytz                               2019.3             \n",
      "PyWavelets                         1.1.1              \n",
      "pywin32                            227                \n",
      "pywin32-ctypes                     0.2.0              \n",
      "pywinpty                           0.5.7              \n",
      "PyYAML                             5.3                \n",
      "pyzmq                              18.1.1             \n",
      "QDarkStyle                         2.8                \n",
      "QtAwesome                          0.6.1              \n",
      "qtconsole                          4.6.0              \n",
      "QtPy                               1.9.0              \n",
      "requests                           2.22.0             \n",
      "rope                               0.16.0             \n",
      "Rtree                              0.9.3              \n",
      "ruamel-yaml                        0.15.87            \n",
      "scikit-image                       0.16.2             \n",
      "scikit-learn                       0.23.2             \n",
      "scipy                              1.4.1              \n",
      "seaborn                            0.10.0             \n",
      "Send2Trash                         1.5.0              \n",
      "setuptools                         45.2.0.post20200210\n",
      "simplegeneric                      0.8.1              \n",
      "singledispatch                     3.4.0.3            \n",
      "six                                1.14.0             \n",
      "snowballstemmer                    2.0.0              \n",
      "sortedcollections                  1.1.2              \n",
      "sortedcontainers                   2.1.0              \n",
      "soupsieve                          1.9.5              \n",
      "Sphinx                             2.4.0              \n",
      "sphinxcontrib-applehelp            1.0.1              \n",
      "sphinxcontrib-devhelp              1.0.1              \n",
      "sphinxcontrib-htmlhelp             1.0.2              \n",
      "sphinxcontrib-jsmath               1.0.1              \n",
      "sphinxcontrib-qthelp               1.0.2              \n",
      "sphinxcontrib-serializinghtml      1.1.3              \n",
      "sphinxcontrib-websupport           1.2.0              \n",
      "spyder                             4.0.1              \n",
      "spyder-kernels                     1.8.1              \n",
      "SQLAlchemy                         1.3.13             \n",
      "statsmodels                        0.11.0             \n",
      "sympy                              1.5.1              \n",
      "tables                             3.6.1              \n",
      "tblib                              1.6.0              \n",
      "tensorboard                        1.14.0             \n",
      "tensorflow                         1.14.0             \n",
      "tensorflow-estimator               1.14.0             \n",
      "termcolor                          1.1.0              \n",
      "terminado                          0.8.3              \n",
      "testpath                           0.4.4              \n",
      "Theano                             1.0.4              \n",
      "threadpoolctl                      2.1.0              \n",
      "toolz                              0.10.0             \n",
      "tornado                            6.0.3              \n",
      "tqdm                               4.42.1             \n",
      "traitlets                          4.3.3              \n",
      "typing-extensions                  3.7.4.2            \n",
      "ujson                              1.35               \n",
      "unicodecsv                         0.14.1             \n",
      "urllib3                            1.25.8             \n",
      "watchdog                           0.10.2             \n",
      "wcwidth                            0.1.8              \n",
      "webencodings                       0.5.1              \n",
      "Werkzeug                           1.0.0              \n",
      "wheel                              0.34.2             \n",
      "widgetsnbextension                 3.5.1              \n",
      "win-inet-pton                      1.1.0              \n",
      "win-unicode-console                0.5                \n",
      "wincertstore                       0.2                \n",
      "wrapt                              1.11.2             \n",
      "xarray                             0.15.1             \n",
      "xgboost                            1.1.1              \n",
      "xlrd                               1.2.0              \n",
      "XlsxWriter                         1.2.7              \n",
      "xlwings                            0.17.1             \n",
      "xlwt                               1.3.0              \n",
      "xmltodict                          0.12.0             \n",
      "yapf                               0.28.0             \n",
      "zict                               1.0.0              \n",
      "zipp                               2.2.0              \n",
      "Note: you may need to restart the kernel to use updated packages.\n"
     ]
    }
   ],
   "source": [
    "pip list"
   ]
  },
  {
   "cell_type": "code",
   "execution_count": 6,
   "metadata": {},
   "outputs": [
    {
     "name": "stdout",
     "output_type": "stream",
     "text": [
      "Name: tensorflow\n",
      "Version: 1.14.0\n",
      "Summary: TensorFlow is an open source machine learning framework for everyone.\n",
      "Home-page: https://www.tensorflow.org/\n",
      "Author: Google Inc.\n",
      "Author-email: packages@tensorflow.org\n",
      "License: Apache 2.0\n",
      "Location: d:\\anaconda\\lib\\site-packages\n",
      "Requires: keras-preprocessing, astor, gast, termcolor, absl-py, wrapt, tensorflow-estimator, six, google-pasta, numpy, tensorboard, keras-applications, grpcio, protobuf, wheel\n",
      "Required-by: \n",
      "Note: you may need to restart the kernel to use updated packages.\n"
     ]
    }
   ],
   "source": [
    "pip show tensorflow"
   ]
  },
  {
   "cell_type": "code",
   "execution_count": 7,
   "metadata": {},
   "outputs": [
    {
     "name": "stdout",
     "output_type": "stream",
     "text": [
      "absl-py==0.10.0\n",
      "alabaster==0.7.12\n",
      "anaconda-client==1.7.2\n",
      "anaconda-navigator==1.9.12\n",
      "anaconda-project==0.8.3\n",
      "argh==0.26.2\n",
      "arviz==0.9.0\n",
      "asn1crypto==1.3.0\n",
      "astor==0.8.1\n",
      "astroid==2.3.3\n",
      "astropy==4.0\n",
      "atomicwrites==1.3.0\n",
      "attrs==19.3.0\n",
      "autoimpute==0.12.0\n",
      "autopep8==1.4.4\n",
      "Babel==2.8.0\n",
      "backcall==0.1.0\n",
      "backports.functools-lru-cache==1.6.1\n",
      "backports.shutil-get-terminal-size==1.0.0\n",
      "backports.tempfile==1.0\n",
      "backports.weakref==1.0.post1\n",
      "bcrypt==3.1.7\n",
      "beautifulsoup4==4.8.2\n",
      "bitarray==1.2.1\n",
      "bkcharts==0.2\n",
      "bleach==3.1.0\n",
      "bokeh==1.4.0\n",
      "boto==2.49.0\n",
      "Bottleneck==1.3.2\n",
      "certifi==2019.11.28\n",
      "cffi==1.14.0\n",
      "cftime==1.1.3\n",
      "chardet==3.0.4\n",
      "Click==7.0\n",
      "cloudpickle==1.3.0\n",
      "clyent==1.2.2\n",
      "colorama==0.4.3\n",
      "comtypes==1.1.7\n",
      "conda==4.9.2\n",
      "conda-build==3.18.11\n",
      "conda-package-handling==1.6.0\n",
      "conda-verify==3.4.2\n",
      "contextlib2==0.6.0.post1\n",
      "cryptography==2.8\n",
      "cycler==0.10.0\n",
      "Cython==0.29.15\n",
      "cytoolz==0.10.1\n",
      "dask==2.11.0\n",
      "decorator==4.4.1\n",
      "defusedxml==0.6.0\n",
      "diff-match-patch==20181111\n",
      "distributed==2.11.0\n",
      "docutils==0.16\n",
      "entrypoints==0.3\n",
      "et-xmlfile==1.0.1\n",
      "fastcache==1.1.0\n",
      "fastprogress==0.2.3\n",
      "filelock==3.0.12\n",
      "flake8==3.7.9\n",
      "Flask==1.1.1\n",
      "Flask-Cors==3.0.8\n",
      "fsspec==0.6.2\n",
      "future==0.18.2\n",
      "gast==0.4.0\n",
      "gevent==1.4.0\n",
      "glob2==0.7\n",
      "graphviz==0.14.2\n",
      "greenlet==0.4.15\n",
      "grpcio==1.27.2\n",
      "h5py==2.10.0\n",
      "HeapDict==1.0.1\n",
      "html5lib==1.0.1\n",
      "hypothesis==5.5.4\n",
      "idna==2.8\n",
      "imageio==2.6.1\n",
      "imagesize==1.2.0\n",
      "imbalanced-learn==0.7.0\n",
      "imblearn==0.0\n",
      "importlib-metadata==2.0.0\n",
      "intervaltree==3.0.2\n",
      "ipykernel==5.1.4\n",
      "ipython==7.12.0\n",
      "ipython-genutils==0.2.0\n",
      "ipywidgets==7.5.1\n",
      "isort==4.3.21\n",
      "itsdangerous==1.1.0\n",
      "jdcal==1.4.1\n",
      "jedi==0.14.1\n",
      "Jinja2==2.11.1\n",
      "joblib==0.14.1\n",
      "json5==0.9.1\n",
      "jsonschema==3.2.0\n",
      "jupyter==1.0.0\n",
      "jupyter-client==5.3.4\n",
      "jupyter-console==6.1.0\n",
      "jupyter-core==4.6.1\n",
      "jupyterlab==1.2.6\n",
      "jupyterlab-server==1.0.6\n",
      "Keras==2.3.1\n",
      "Keras-Applications==1.0.8\n",
      "Keras-Preprocessing==1.1.0\n",
      "keyring==21.1.0\n",
      "kiwisolver==1.1.0\n",
      "lazy-object-proxy==1.4.3\n",
      "libarchive-c==2.8\n",
      "llvmlite==0.31.0\n",
      "locket==0.2.0\n",
      "lxml==4.5.0\n",
      "Markdown==3.3.1\n",
      "MarkupSafe==1.1.1\n",
      "matplotlib==3.1.3\n",
      "mccabe==0.6.1\n",
      "menuinst==1.4.16\n",
      "missingno==0.4.2\n",
      "mistune==0.8.4\n",
      "mkl-fft==1.0.15\n",
      "mkl-random==1.1.0\n",
      "mkl-service==2.3.0\n",
      "mock==4.0.1\n",
      "more-itertools==8.2.0\n",
      "mpmath==1.1.0\n",
      "msgpack==0.6.1\n",
      "multipledispatch==0.6.0\n",
      "navigator-updater==0.2.1\n",
      "nbconvert==5.6.1\n",
      "nbformat==5.0.4\n",
      "netCDF4==1.5.3\n",
      "networkx==2.4\n",
      "nltk==3.4.5\n",
      "nose==1.3.7\n",
      "notebook==6.0.3\n",
      "numba==0.48.0\n",
      "numexpr==2.7.1\n",
      "numpy==1.18.1\n",
      "numpydoc==0.9.2\n",
      "olefile==0.46\n",
      "openpyxl==3.0.3\n",
      "packaging==20.1\n",
      "pandas==1.0.1\n",
      "pandocfilters==1.4.2\n",
      "paramiko==2.7.1\n",
      "parso==0.5.2\n",
      "partd==1.1.0\n",
      "path==13.1.0\n",
      "pathlib2==2.3.5\n",
      "pathtools==0.1.2\n",
      "patsy==0.5.1\n",
      "pep8==1.7.1\n",
      "pexpect==4.8.0\n",
      "pickleshare==0.7.5\n",
      "Pillow==7.0.0\n",
      "pkginfo==1.5.0.1\n",
      "pluggy==0.13.1\n",
      "ply==3.11\n",
      "prometheus-client==0.7.1\n",
      "prompt-toolkit==3.0.3\n",
      "protobuf==3.13.0\n",
      "psutil==5.6.7\n",
      "py==1.8.1\n",
      "pycodestyle==2.5.0\n",
      "pycosat==0.6.3\n",
      "pycparser==2.19\n",
      "pycrypto==2.6.1\n",
      "pycurl==7.43.0.5\n",
      "pydocstyle==4.0.1\n",
      "pydot==1.4.1\n",
      "pydotplus==2.0.2\n",
      "pyflakes==2.1.1\n",
      "Pygments==2.5.2\n",
      "pylint==2.4.4\n",
      "pymc3==3.9.2\n",
      "pymongo==3.9.0\n",
      "PyNaCl==1.3.0\n",
      "pyodbc===4.0.0-unsupported\n",
      "pyOpenSSL==19.1.0\n",
      "pyparsing==2.4.6\n",
      "pyreadline==2.1\n",
      "pyrsistent==0.15.7\n",
      "PySocks==1.7.1\n",
      "pyspellchecker==0.5.5\n",
      "pytest==5.3.5\n",
      "pytest-arraydiff==0.3\n",
      "pytest-astropy==0.8.0\n",
      "pytest-astropy-header==0.1.2\n",
      "pytest-doctestplus==0.5.0\n",
      "pytest-openfiles==0.4.0\n",
      "pytest-remotedata==0.3.2\n",
      "python-dateutil==2.8.1\n",
      "python-jsonrpc-server==0.3.4\n",
      "python-language-server==0.31.7\n",
      "pyts==0.11.0\n",
      "pytz==2019.3\n",
      "PyWavelets==1.1.1\n",
      "pywin32==227\n",
      "pywin32-ctypes==0.2.0\n",
      "pywinpty==0.5.7\n",
      "PyYAML==5.3\n",
      "pyzmq==18.1.1\n",
      "QDarkStyle==2.8\n",
      "QtAwesome==0.6.1\n",
      "qtconsole==4.6.0\n",
      "QtPy==1.9.0\n",
      "requests==2.22.0\n",
      "rope==0.16.0\n",
      "Rtree==0.9.3\n",
      "ruamel-yaml==0.15.87\n",
      "scikit-image==0.16.2\n",
      "scikit-learn==0.23.2\n",
      "scipy==1.4.1\n",
      "seaborn==0.10.0\n",
      "Send2Trash==1.5.0\n",
      "simplegeneric==0.8.1\n",
      "singledispatch==3.4.0.3\n",
      "six==1.14.0\n",
      "snowballstemmer==2.0.0\n",
      "sortedcollections==1.1.2\n",
      "sortedcontainers==2.1.0\n",
      "soupsieve==1.9.5\n",
      "Sphinx==2.4.0\n",
      "sphinxcontrib-applehelp==1.0.1\n",
      "sphinxcontrib-devhelp==1.0.1\n",
      "sphinxcontrib-htmlhelp==1.0.2\n",
      "sphinxcontrib-jsmath==1.0.1\n",
      "sphinxcontrib-qthelp==1.0.2\n",
      "sphinxcontrib-serializinghtml==1.1.3\n",
      "sphinxcontrib-websupport==1.2.0\n",
      "spyder==4.0.1\n",
      "spyder-kernels==1.8.1\n",
      "SQLAlchemy==1.3.13\n",
      "statsmodels==0.11.0\n",
      "sympy==1.5.1\n",
      "tables==3.6.1\n",
      "tblib==1.6.0\n",
      "tensorboard==1.14.0\n",
      "tensorflow==1.14.0\n",
      "tensorflow-estimator==1.14.0\n",
      "termcolor==1.1.0\n",
      "terminado==0.8.3\n",
      "testpath==0.4.4\n",
      "Theano==1.0.4\n",
      "threadpoolctl==2.1.0\n",
      "toolz==0.10.0\n",
      "tornado==6.0.3\n",
      "tqdm==4.42.1\n",
      "traitlets==4.3.3\n",
      "typing-extensions==3.7.4.2\n",
      "ujson==1.35\n",
      "unicodecsv==0.14.1\n",
      "urllib3==1.25.8\n",
      "watchdog==0.10.2\n",
      "wcwidth==0.1.8\n",
      "webencodings==0.5.1\n",
      "Werkzeug==1.0.0\n",
      "widgetsnbextension==3.5.1\n",
      "win-inet-pton==1.1.0\n",
      "win-unicode-console==0.5\n",
      "wincertstore==0.2\n",
      "wrapt==1.11.2\n",
      "xarray==0.15.1\n",
      "xgboost==1.1.1\n",
      "xlrd==1.2.0\n",
      "XlsxWriter==1.2.7\n",
      "xlwings==0.17.1\n",
      "xlwt==1.3.0\n",
      "xmltodict==0.12.0\n",
      "yapf==0.28.0\n",
      "zict==1.0.0\n",
      "zipp==2.2.0\n",
      "Note: you may need to restart the kernel to use updated packages.\n"
     ]
    }
   ],
   "source": [
    "pip freeze"
   ]
  },
  {
   "cell_type": "markdown",
   "metadata": {},
   "source": [
    "##### Load the Dataset"
   ]
  },
  {
   "cell_type": "markdown",
   "metadata": {},
   "source": [
    "The dataset is downloaded from the following site.<br>\n",
    "https://www.kaggle.com/c/asap-sas/data"
   ]
  },
  {
   "cell_type": "code",
   "execution_count": 5,
   "metadata": {},
   "outputs": [],
   "source": [
    "#data = pd.read_table('train.tsv')\n",
    "\n",
    "train1 = pd.read_table('train.tsv')\n",
    "train2 = pd.read_table('train_rel_2.tsv')"
   ]
  },
  {
   "cell_type": "code",
   "execution_count": 6,
   "metadata": {},
   "outputs": [],
   "source": [
    "train = [train1, train2]\n",
    "train = pd.concat(train)"
   ]
  },
  {
   "cell_type": "code",
   "execution_count": 7,
   "metadata": {},
   "outputs": [],
   "source": [
    "test = pd.read_table('test1.tsv')\n",
    "test_soln = pd.read_csv('test1_soln.csv')"
   ]
  },
  {
   "cell_type": "code",
   "execution_count": 8,
   "metadata": {},
   "outputs": [
    {
     "data": {
      "text/html": [
       "<div>\n",
       "<style scoped>\n",
       "    .dataframe tbody tr th:only-of-type {\n",
       "        vertical-align: middle;\n",
       "    }\n",
       "\n",
       "    .dataframe tbody tr th {\n",
       "        vertical-align: top;\n",
       "    }\n",
       "\n",
       "    .dataframe thead th {\n",
       "        text-align: right;\n",
       "    }\n",
       "</style>\n",
       "<table border=\"1\" class=\"dataframe\">\n",
       "  <thead>\n",
       "    <tr style=\"text-align: right;\">\n",
       "      <th></th>\n",
       "      <th>id</th>\n",
       "      <th>essay_set</th>\n",
       "      <th>essay_weight</th>\n",
       "      <th>essay_score</th>\n",
       "      <th>Usage</th>\n",
       "    </tr>\n",
       "  </thead>\n",
       "  <tbody>\n",
       "    <tr>\n",
       "      <th>0</th>\n",
       "      <td>1673</td>\n",
       "      <td>1</td>\n",
       "      <td>1</td>\n",
       "      <td>1</td>\n",
       "      <td>PublicTest</td>\n",
       "    </tr>\n",
       "    <tr>\n",
       "      <th>1</th>\n",
       "      <td>1674</td>\n",
       "      <td>1</td>\n",
       "      <td>1</td>\n",
       "      <td>1</td>\n",
       "      <td>PublicTest</td>\n",
       "    </tr>\n",
       "    <tr>\n",
       "      <th>2</th>\n",
       "      <td>1675</td>\n",
       "      <td>1</td>\n",
       "      <td>1</td>\n",
       "      <td>3</td>\n",
       "      <td>PublicTest</td>\n",
       "    </tr>\n",
       "    <tr>\n",
       "      <th>3</th>\n",
       "      <td>1676</td>\n",
       "      <td>1</td>\n",
       "      <td>1</td>\n",
       "      <td>0</td>\n",
       "      <td>PublicTest</td>\n",
       "    </tr>\n",
       "    <tr>\n",
       "      <th>4</th>\n",
       "      <td>1677</td>\n",
       "      <td>1</td>\n",
       "      <td>1</td>\n",
       "      <td>0</td>\n",
       "      <td>PublicTest</td>\n",
       "    </tr>\n",
       "  </tbody>\n",
       "</table>\n",
       "</div>"
      ],
      "text/plain": [
       "     id  essay_set  essay_weight  essay_score       Usage\n",
       "0  1673          1             1            1  PublicTest\n",
       "1  1674          1             1            1  PublicTest\n",
       "2  1675          1             1            3  PublicTest\n",
       "3  1676          1             1            0  PublicTest\n",
       "4  1677          1             1            0  PublicTest"
      ]
     },
     "execution_count": 8,
     "metadata": {},
     "output_type": "execute_result"
    }
   ],
   "source": [
    "test_soln.head()"
   ]
  },
  {
   "cell_type": "code",
   "execution_count": 9,
   "metadata": {},
   "outputs": [
    {
     "data": {
      "text/html": [
       "<div>\n",
       "<style scoped>\n",
       "    .dataframe tbody tr th:only-of-type {\n",
       "        vertical-align: middle;\n",
       "    }\n",
       "\n",
       "    .dataframe tbody tr th {\n",
       "        vertical-align: top;\n",
       "    }\n",
       "\n",
       "    .dataframe thead th {\n",
       "        text-align: right;\n",
       "    }\n",
       "</style>\n",
       "<table border=\"1\" class=\"dataframe\">\n",
       "  <thead>\n",
       "    <tr style=\"text-align: right;\">\n",
       "      <th></th>\n",
       "      <th>Id</th>\n",
       "      <th>EssaySet</th>\n",
       "      <th>EssayText</th>\n",
       "    </tr>\n",
       "  </thead>\n",
       "  <tbody>\n",
       "    <tr>\n",
       "      <th>0</th>\n",
       "      <td>1673</td>\n",
       "      <td>1</td>\n",
       "      <td>The procedures I think they should have includ...</td>\n",
       "    </tr>\n",
       "    <tr>\n",
       "      <th>1</th>\n",
       "      <td>1674</td>\n",
       "      <td>1</td>\n",
       "      <td>In order to replicate this experiment, you wou...</td>\n",
       "    </tr>\n",
       "    <tr>\n",
       "      <th>2</th>\n",
       "      <td>1675</td>\n",
       "      <td>1</td>\n",
       "      <td>In order to replicate their experiment, you wo...</td>\n",
       "    </tr>\n",
       "    <tr>\n",
       "      <th>3</th>\n",
       "      <td>1676</td>\n",
       "      <td>1</td>\n",
       "      <td>Pleace a simple of one material into one conta...</td>\n",
       "    </tr>\n",
       "    <tr>\n",
       "      <th>4</th>\n",
       "      <td>1677</td>\n",
       "      <td>1</td>\n",
       "      <td>Determin the mass of four different samples ma...</td>\n",
       "    </tr>\n",
       "  </tbody>\n",
       "</table>\n",
       "</div>"
      ],
      "text/plain": [
       "     Id  EssaySet                                          EssayText\n",
       "0  1673         1  The procedures I think they should have includ...\n",
       "1  1674         1  In order to replicate this experiment, you wou...\n",
       "2  1675         1  In order to replicate their experiment, you wo...\n",
       "3  1676         1  Pleace a simple of one material into one conta...\n",
       "4  1677         1  Determin the mass of four different samples ma..."
      ]
     },
     "execution_count": 9,
     "metadata": {},
     "output_type": "execute_result"
    }
   ],
   "source": [
    "test.head()"
   ]
  },
  {
   "cell_type": "code",
   "execution_count": null,
   "metadata": {},
   "outputs": [],
   "source": []
  },
  {
   "cell_type": "code",
   "execution_count": 10,
   "metadata": {},
   "outputs": [
    {
     "data": {
      "text/html": [
       "<div>\n",
       "<style scoped>\n",
       "    .dataframe tbody tr th:only-of-type {\n",
       "        vertical-align: middle;\n",
       "    }\n",
       "\n",
       "    .dataframe tbody tr th {\n",
       "        vertical-align: top;\n",
       "    }\n",
       "\n",
       "    .dataframe thead th {\n",
       "        text-align: right;\n",
       "    }\n",
       "</style>\n",
       "<table border=\"1\" class=\"dataframe\">\n",
       "  <thead>\n",
       "    <tr style=\"text-align: right;\">\n",
       "      <th></th>\n",
       "      <th>Id</th>\n",
       "      <th>EssaySet</th>\n",
       "      <th>Score</th>\n",
       "      <th>EssayText</th>\n",
       "    </tr>\n",
       "  </thead>\n",
       "  <tbody>\n",
       "    <tr>\n",
       "      <th>0</th>\n",
       "      <td>1</td>\n",
       "      <td>1</td>\n",
       "      <td>1</td>\n",
       "      <td>Some additional information that we would need...</td>\n",
       "    </tr>\n",
       "    <tr>\n",
       "      <th>1</th>\n",
       "      <td>2</td>\n",
       "      <td>1</td>\n",
       "      <td>1</td>\n",
       "      <td>After reading the expirement, I realized that ...</td>\n",
       "    </tr>\n",
       "    <tr>\n",
       "      <th>2</th>\n",
       "      <td>3</td>\n",
       "      <td>1</td>\n",
       "      <td>1</td>\n",
       "      <td>What you need is more trials, a control set up...</td>\n",
       "    </tr>\n",
       "    <tr>\n",
       "      <th>3</th>\n",
       "      <td>4</td>\n",
       "      <td>1</td>\n",
       "      <td>0</td>\n",
       "      <td>The student should list what rock is better an...</td>\n",
       "    </tr>\n",
       "    <tr>\n",
       "      <th>4</th>\n",
       "      <td>5</td>\n",
       "      <td>1</td>\n",
       "      <td>2</td>\n",
       "      <td>For the students to be able to make a replicat...</td>\n",
       "    </tr>\n",
       "  </tbody>\n",
       "</table>\n",
       "</div>"
      ],
      "text/plain": [
       "   Id  EssaySet  Score                                          EssayText\n",
       "0   1         1      1  Some additional information that we would need...\n",
       "1   2         1      1  After reading the expirement, I realized that ...\n",
       "2   3         1      1  What you need is more trials, a control set up...\n",
       "3   4         1      0  The student should list what rock is better an...\n",
       "4   5         1      2  For the students to be able to make a replicat..."
      ]
     },
     "execution_count": 10,
     "metadata": {},
     "output_type": "execute_result"
    }
   ],
   "source": [
    "data1 = train1.copy(deep = True)\n",
    "data1.rename(columns = {'Score1':'Score'}, inplace = True)\n",
    "data1 = data1.drop('Score2', axis = 1)\n",
    "data1.head()"
   ]
  },
  {
   "cell_type": "code",
   "execution_count": 11,
   "metadata": {},
   "outputs": [
    {
     "data": {
      "text/html": [
       "<div>\n",
       "<style scoped>\n",
       "    .dataframe tbody tr th:only-of-type {\n",
       "        vertical-align: middle;\n",
       "    }\n",
       "\n",
       "    .dataframe tbody tr th {\n",
       "        vertical-align: top;\n",
       "    }\n",
       "\n",
       "    .dataframe thead th {\n",
       "        text-align: right;\n",
       "    }\n",
       "</style>\n",
       "<table border=\"1\" class=\"dataframe\">\n",
       "  <thead>\n",
       "    <tr style=\"text-align: right;\">\n",
       "      <th></th>\n",
       "      <th>Id</th>\n",
       "      <th>EssaySet</th>\n",
       "      <th>Score</th>\n",
       "      <th>EssayText</th>\n",
       "    </tr>\n",
       "  </thead>\n",
       "  <tbody>\n",
       "    <tr>\n",
       "      <th>0</th>\n",
       "      <td>1</td>\n",
       "      <td>1</td>\n",
       "      <td>1</td>\n",
       "      <td>Some additional information that we would need...</td>\n",
       "    </tr>\n",
       "    <tr>\n",
       "      <th>1</th>\n",
       "      <td>2</td>\n",
       "      <td>1</td>\n",
       "      <td>1</td>\n",
       "      <td>After reading the expirement, I realized that ...</td>\n",
       "    </tr>\n",
       "    <tr>\n",
       "      <th>2</th>\n",
       "      <td>3</td>\n",
       "      <td>1</td>\n",
       "      <td>1</td>\n",
       "      <td>What you need is more trials, a control set up...</td>\n",
       "    </tr>\n",
       "    <tr>\n",
       "      <th>3</th>\n",
       "      <td>4</td>\n",
       "      <td>1</td>\n",
       "      <td>0</td>\n",
       "      <td>The student should list what rock is better an...</td>\n",
       "    </tr>\n",
       "    <tr>\n",
       "      <th>4</th>\n",
       "      <td>5</td>\n",
       "      <td>1</td>\n",
       "      <td>2</td>\n",
       "      <td>For the students to be able to make a replicat...</td>\n",
       "    </tr>\n",
       "  </tbody>\n",
       "</table>\n",
       "</div>"
      ],
      "text/plain": [
       "   Id  EssaySet  Score                                          EssayText\n",
       "0   1         1      1  Some additional information that we would need...\n",
       "1   2         1      1  After reading the expirement, I realized that ...\n",
       "2   3         1      1  What you need is more trials, a control set up...\n",
       "3   4         1      0  The student should list what rock is better an...\n",
       "4   5         1      2  For the students to be able to make a replicat..."
      ]
     },
     "execution_count": 11,
     "metadata": {},
     "output_type": "execute_result"
    }
   ],
   "source": [
    "data2 = train2.copy(deep = True)\n",
    "data2.rename(columns = {'Score2':'Score'}, inplace = True)\n",
    "data2 = data2.drop('Score1', axis = 1)\n",
    "data2.head()"
   ]
  },
  {
   "cell_type": "code",
   "execution_count": 12,
   "metadata": {},
   "outputs": [
    {
     "data": {
      "text/html": [
       "<div>\n",
       "<style scoped>\n",
       "    .dataframe tbody tr th:only-of-type {\n",
       "        vertical-align: middle;\n",
       "    }\n",
       "\n",
       "    .dataframe tbody tr th {\n",
       "        vertical-align: top;\n",
       "    }\n",
       "\n",
       "    .dataframe thead th {\n",
       "        text-align: right;\n",
       "    }\n",
       "</style>\n",
       "<table border=\"1\" class=\"dataframe\">\n",
       "  <thead>\n",
       "    <tr style=\"text-align: right;\">\n",
       "      <th></th>\n",
       "      <th>Id</th>\n",
       "      <th>EssaySet</th>\n",
       "      <th>Score</th>\n",
       "      <th>EssayText</th>\n",
       "    </tr>\n",
       "  </thead>\n",
       "  <tbody>\n",
       "    <tr>\n",
       "      <th>0</th>\n",
       "      <td>1</td>\n",
       "      <td>1</td>\n",
       "      <td>1</td>\n",
       "      <td>Some additional information that we would need...</td>\n",
       "    </tr>\n",
       "    <tr>\n",
       "      <th>1</th>\n",
       "      <td>2</td>\n",
       "      <td>1</td>\n",
       "      <td>1</td>\n",
       "      <td>After reading the expirement, I realized that ...</td>\n",
       "    </tr>\n",
       "    <tr>\n",
       "      <th>2</th>\n",
       "      <td>3</td>\n",
       "      <td>1</td>\n",
       "      <td>1</td>\n",
       "      <td>What you need is more trials, a control set up...</td>\n",
       "    </tr>\n",
       "    <tr>\n",
       "      <th>3</th>\n",
       "      <td>4</td>\n",
       "      <td>1</td>\n",
       "      <td>0</td>\n",
       "      <td>The student should list what rock is better an...</td>\n",
       "    </tr>\n",
       "    <tr>\n",
       "      <th>4</th>\n",
       "      <td>5</td>\n",
       "      <td>1</td>\n",
       "      <td>2</td>\n",
       "      <td>For the students to be able to make a replicat...</td>\n",
       "    </tr>\n",
       "    <tr>\n",
       "      <th>...</th>\n",
       "      <td>...</td>\n",
       "      <td>...</td>\n",
       "      <td>...</td>\n",
       "      <td>...</td>\n",
       "    </tr>\n",
       "    <tr>\n",
       "      <th>34245</th>\n",
       "      <td>27584</td>\n",
       "      <td>10</td>\n",
       "      <td>1</td>\n",
       "      <td>white :: white becuase if you live in a hot pl...</td>\n",
       "    </tr>\n",
       "    <tr>\n",
       "      <th>34246</th>\n",
       "      <td>27585</td>\n",
       "      <td>10</td>\n",
       "      <td>1</td>\n",
       "      <td>light gray :: This color will affect the dogho...</td>\n",
       "    </tr>\n",
       "    <tr>\n",
       "      <th>34247</th>\n",
       "      <td>27586</td>\n",
       "      <td>10</td>\n",
       "      <td>1</td>\n",
       "      <td>light gray :: i think light gray would work th...</td>\n",
       "    </tr>\n",
       "    <tr>\n",
       "      <th>34248</th>\n",
       "      <td>27587</td>\n",
       "      <td>10</td>\n",
       "      <td>0</td>\n",
       "      <td>dark gray ::  if they painted the doghouse dar...</td>\n",
       "    </tr>\n",
       "    <tr>\n",
       "      <th>34249</th>\n",
       "      <td>27588</td>\n",
       "      <td>10</td>\n",
       "      <td>1</td>\n",
       "      <td>white :: the black would affect the doghouse b...</td>\n",
       "    </tr>\n",
       "  </tbody>\n",
       "</table>\n",
       "<p>34250 rows × 4 columns</p>\n",
       "</div>"
      ],
      "text/plain": [
       "          Id  EssaySet  Score  \\\n",
       "0          1         1      1   \n",
       "1          2         1      1   \n",
       "2          3         1      1   \n",
       "3          4         1      0   \n",
       "4          5         1      2   \n",
       "...      ...       ...    ...   \n",
       "34245  27584        10      1   \n",
       "34246  27585        10      1   \n",
       "34247  27586        10      1   \n",
       "34248  27587        10      0   \n",
       "34249  27588        10      1   \n",
       "\n",
       "                                               EssayText  \n",
       "0      Some additional information that we would need...  \n",
       "1      After reading the expirement, I realized that ...  \n",
       "2      What you need is more trials, a control set up...  \n",
       "3      The student should list what rock is better an...  \n",
       "4      For the students to be able to make a replicat...  \n",
       "...                                                  ...  \n",
       "34245  white :: white becuase if you live in a hot pl...  \n",
       "34246  light gray :: This color will affect the dogho...  \n",
       "34247  light gray :: i think light gray would work th...  \n",
       "34248  dark gray ::  if they painted the doghouse dar...  \n",
       "34249  white :: the black would affect the doghouse b...  \n",
       "\n",
       "[34250 rows x 4 columns]"
      ]
     },
     "execution_count": 12,
     "metadata": {},
     "output_type": "execute_result"
    }
   ],
   "source": [
    "data = pd.concat([data1, data2], axis = 0)\n",
    "data.reset_index(drop = True)"
   ]
  },
  {
   "cell_type": "code",
   "execution_count": null,
   "metadata": {},
   "outputs": [],
   "source": []
  },
  {
   "cell_type": "markdown",
   "metadata": {},
   "source": [
    "### I. About dataset"
   ]
  },
  {
   "cell_type": "code",
   "execution_count": 13,
   "metadata": {},
   "outputs": [
    {
     "data": {
      "text/html": [
       "<div>\n",
       "<style scoped>\n",
       "    .dataframe tbody tr th:only-of-type {\n",
       "        vertical-align: middle;\n",
       "    }\n",
       "\n",
       "    .dataframe tbody tr th {\n",
       "        vertical-align: top;\n",
       "    }\n",
       "\n",
       "    .dataframe thead th {\n",
       "        text-align: right;\n",
       "    }\n",
       "</style>\n",
       "<table border=\"1\" class=\"dataframe\">\n",
       "  <thead>\n",
       "    <tr style=\"text-align: right;\">\n",
       "      <th></th>\n",
       "      <th>Id</th>\n",
       "      <th>EssaySet</th>\n",
       "      <th>Score</th>\n",
       "      <th>EssayText</th>\n",
       "    </tr>\n",
       "  </thead>\n",
       "  <tbody>\n",
       "    <tr>\n",
       "      <th>0</th>\n",
       "      <td>1</td>\n",
       "      <td>1</td>\n",
       "      <td>1</td>\n",
       "      <td>Some additional information that we would need...</td>\n",
       "    </tr>\n",
       "    <tr>\n",
       "      <th>1</th>\n",
       "      <td>2</td>\n",
       "      <td>1</td>\n",
       "      <td>1</td>\n",
       "      <td>After reading the expirement, I realized that ...</td>\n",
       "    </tr>\n",
       "    <tr>\n",
       "      <th>2</th>\n",
       "      <td>3</td>\n",
       "      <td>1</td>\n",
       "      <td>1</td>\n",
       "      <td>What you need is more trials, a control set up...</td>\n",
       "    </tr>\n",
       "    <tr>\n",
       "      <th>3</th>\n",
       "      <td>4</td>\n",
       "      <td>1</td>\n",
       "      <td>0</td>\n",
       "      <td>The student should list what rock is better an...</td>\n",
       "    </tr>\n",
       "    <tr>\n",
       "      <th>4</th>\n",
       "      <td>5</td>\n",
       "      <td>1</td>\n",
       "      <td>2</td>\n",
       "      <td>For the students to be able to make a replicat...</td>\n",
       "    </tr>\n",
       "  </tbody>\n",
       "</table>\n",
       "</div>"
      ],
      "text/plain": [
       "   Id  EssaySet  Score                                          EssayText\n",
       "0   1         1      1  Some additional information that we would need...\n",
       "1   2         1      1  After reading the expirement, I realized that ...\n",
       "2   3         1      1  What you need is more trials, a control set up...\n",
       "3   4         1      0  The student should list what rock is better an...\n",
       "4   5         1      2  For the students to be able to make a replicat..."
      ]
     },
     "execution_count": 13,
     "metadata": {},
     "output_type": "execute_result"
    }
   ],
   "source": [
    "data.head()"
   ]
  },
  {
   "cell_type": "code",
   "execution_count": 14,
   "metadata": {},
   "outputs": [
    {
     "name": "stdout",
     "output_type": "stream",
     "text": [
      "Number of Records= 34250\n",
      "Number of Features= 4\n"
     ]
    }
   ],
   "source": [
    "# Size of the dataset\n",
    "print('Number of Records=',data.shape[0])\n",
    "print('Number of Features=',data.shape[1])"
   ]
  },
  {
   "cell_type": "markdown",
   "metadata": {},
   "source": [
    "Separating the predictors and Target features."
   ]
  },
  {
   "cell_type": "code",
   "execution_count": 15,
   "metadata": {},
   "outputs": [],
   "source": [
    "essay_set = data['EssaySet']\n",
    "essay_score = data['Score']\n",
    "essay_text = data['EssayText']"
   ]
  },
  {
   "cell_type": "code",
   "execution_count": 16,
   "metadata": {},
   "outputs": [],
   "source": [
    "test_essay_text = test['EssayText']"
   ]
  },
  {
   "cell_type": "markdown",
   "metadata": {},
   "source": [
    "Different categories of target Scores are assigned."
   ]
  },
  {
   "cell_type": "code",
   "execution_count": 17,
   "metadata": {},
   "outputs": [],
   "source": [
    "target = [0, 1, 2, 3]"
   ]
  },
  {
   "cell_type": "markdown",
   "metadata": {},
   "source": [
    "Restructuring the data set by arranging essay texts and labels based on score."
   ]
  },
  {
   "cell_type": "code",
   "execution_count": 18,
   "metadata": {},
   "outputs": [],
   "source": [
    "train_text = []\n",
    "labels = []"
   ]
  },
  {
   "cell_type": "code",
   "execution_count": 19,
   "metadata": {},
   "outputs": [],
   "source": [
    "for label in target:\n",
    "    for t in essay_text[data['Score'] == label]:\n",
    "        train_text.append(t)\n",
    "        labels.append(label)"
   ]
  },
  {
   "cell_type": "code",
   "execution_count": 20,
   "metadata": {},
   "outputs": [
    {
     "data": {
      "text/plain": [
       "['The student should list what rock is better and what rock is the worse in the procedure.',\n",
       " 'An additional information that i would need in order to replicate the experiment',\n",
       " 'Well what i understand about this procedure is that you take four samples, put them in different containers that look the same, put vinegar on every sample + finally rinse them out with normal water + let them sit for 30 minutes till they dry. Then your finally going to see the difference between those samples.',\n",
       " \"I don't know what is going on!\",\n",
       " 'The additional information I would need is to come up with an hypothesis to predict which sample will have the highest mass in acid rain. After that I will have to come up with my dependent and independent variables so I can tell and see each one is different in mass. I will organize the data to see if the information is accurate. Then I will write the conclusion to see if my hypothesis was correct and to see if my results were correct.']"
      ]
     },
     "execution_count": 20,
     "metadata": {},
     "output_type": "execute_result"
    }
   ],
   "source": [
    "train_text[0:5]"
   ]
  },
  {
   "cell_type": "markdown",
   "metadata": {},
   "source": [
    "### II. Data Preparation"
   ]
  },
  {
   "cell_type": "code",
   "execution_count": 21,
   "metadata": {},
   "outputs": [],
   "source": [
    "# Top most frequent words to be taken into account.\n",
    "top_words = 500"
   ]
  },
  {
   "cell_type": "markdown",
   "metadata": {},
   "source": [
    "##### 2.1 Tokenization of essay text"
   ]
  },
  {
   "cell_type": "code",
   "execution_count": 22,
   "metadata": {},
   "outputs": [],
   "source": [
    "tokenizer = Tokenizer(num_words=top_words, lower = True)\n",
    "tokenizer.fit_on_texts(train_text)\n",
    "tokenizer.fit_on_texts(test_essay_text)"
   ]
  },
  {
   "cell_type": "markdown",
   "metadata": {},
   "source": [
    "##### 2.2 Conversion of each token into sequence of integers"
   ]
  },
  {
   "cell_type": "code",
   "execution_count": 23,
   "metadata": {},
   "outputs": [
    {
     "name": "stdout",
     "output_type": "stream",
     "text": [
      "Train\n",
      "[1, 173, 86, 23, 4, 206, 3, 23, 4, 1, 5, 1, 187] [68, 302, 65, 8, 33, 15, 47, 5, 160, 2, 141, 1, 52] [196, 23, 33, 407, 32, 18, 187, 4, 8, 34, 341, 190, 103, 170, 111, 5, 55, 179, 8, 1, 98, 170, 95, 26, 166, 349, 111, 48, 28, 216, 420, 111, 19, 482, 11, 31, 284, 349, 209, 2, 263, 1, 404, 473, 103] [33, 308, 66, 23, 4, 209, 26] [1, 302, 65, 33, 15, 47, 4, 2, 394, 120, 28, 68, 2, 74, 166, 63, 29, 1, 148, 5, 354, 109, 8, 33, 63, 29, 2, 394, 120, 28, 441, 3, 57, 33, 27, 171, 3, 263, 70, 42, 4, 55, 5, 148, 33, 63, 1, 144, 2, 263, 76, 1, 65, 4, 31, 33, 63, 1, 240, 2, 263, 76, 441, 20, 3, 2, 263, 76, 441, 221, 130]\n",
      "Test\n",
      "[1, 33, 162, 11, 86, 29, 19, 351, 2, 141, 1, 52, 15, 14, 16, 55, 103, 214, 11, 101, 19, 70, 23, 214, 11, 112, 2, 463, 1, 148] [5, 160, 2, 141, 18, 52, 34, 15, 47, 2, 66, 16, 204, 7, 95, 11, 101, 16, 67, 216, 2, 1, 103, 28, 3, 16, 11, 1, 148, 7, 70, 166] [5, 160, 2, 141, 96, 52, 34, 15, 47, 2, 66, 16, 67, 95, 34, 10, 69, 70, 7, 1, 179, 37, 196, 37, 23, 333, 7, 103, 185, 10, 209, 2, 9, 86, 3, 38, 9, 86, 39, 171, 234, 26, 23, 1, 103, 63, 26, 37, 55, 312, 397, 1, 221, 1, 318, 169, 8, 15, 14, 268, 2, 141, 18, 52, 4, 2, 171, 234, 23, 333, 7, 179, 1, 103, 86, 14, 170, 5, 237, 37] [6, 7, 42, 392, 69, 42, 201, 3, 9, 28, 103, 6, 166, 69, 6, 201] [1, 148, 7, 190, 55, 103, 38, 11, 82, 29, 362, 148, 3, 366, 148, 3, 1, 1, 71, 1, 117, 148, 49, 71, 1, 117, 5, 148]\n"
     ]
    }
   ],
   "source": [
    "train_sequences = tokenizer.texts_to_sequences(train_text)\n",
    "test_sequences = tokenizer.texts_to_sequences(test_essay_text)\n",
    "print('Train')\n",
    "print(*train_sequences[0:5])\n",
    "print('Test')\n",
    "print(*test_sequences[0:5])"
   ]
  },
  {
   "cell_type": "markdown",
   "metadata": {},
   "source": [
    "Dictionary of words and their counts."
   ]
  },
  {
   "cell_type": "code",
   "execution_count": 28,
   "metadata": {},
   "outputs": [
    {
     "data": {
      "text/plain": [
       "[('the', 124578),\n",
       " ('student', 1703),\n",
       " ('should', 3532),\n",
       " ('list', 152),\n",
       " ('what', 9040)]"
      ]
     },
     "execution_count": 28,
     "metadata": {},
     "output_type": "execute_result"
    }
   ],
   "source": [
    "list(tokenizer.word_counts.items())[0:5]"
   ]
  },
  {
   "cell_type": "markdown",
   "metadata": {},
   "source": [
    "Dictionary of Words and how many essays each appeared in."
   ]
  },
  {
   "cell_type": "code",
   "execution_count": 29,
   "metadata": {},
   "outputs": [
    {
     "data": {
      "text/plain": [
       "[('should', 2454),\n",
       " ('the', 31785),\n",
       " ('rock', 63),\n",
       " ('in', 18717),\n",
       " ('student', 1364)]"
      ]
     },
     "execution_count": 29,
     "metadata": {},
     "output_type": "execute_result"
    }
   ],
   "source": [
    "list(tokenizer.word_docs.items())[0:5]"
   ]
  },
  {
   "cell_type": "markdown",
   "metadata": {},
   "source": [
    "Dictionary of words and their uniquely assigned integers."
   ]
  },
  {
   "cell_type": "code",
   "execution_count": 30,
   "metadata": {},
   "outputs": [
    {
     "name": "stdout",
     "output_type": "stream",
     "text": [
      "No. of Unique Tokens =  19692\n"
     ]
    },
    {
     "data": {
      "text/plain": [
       "[('the', 1), ('to', 2), ('and', 3), ('is', 4), ('in', 5)]"
      ]
     },
     "execution_count": 30,
     "metadata": {},
     "output_type": "execute_result"
    }
   ],
   "source": [
    "word_index = tokenizer.word_index\n",
    "print('No. of Unique Tokens = ',len(word_index))\n",
    "list(word_index.items())[0:5]"
   ]
  },
  {
   "cell_type": "markdown",
   "metadata": {},
   "source": [
    "##### 2.3 Creation of tensors of data (word index sequence vector of essay text) and target labels"
   ]
  },
  {
   "cell_type": "code",
   "execution_count": 32,
   "metadata": {},
   "outputs": [
    {
     "data": {
      "text/plain": [
       "1819"
      ]
     },
     "execution_count": 32,
     "metadata": {},
     "output_type": "execute_result"
    }
   ],
   "source": [
    "# Maximum length of an essay text.\n",
    "len(max(train_text, key=len))"
   ]
  },
  {
   "cell_type": "markdown",
   "metadata": {},
   "source": [
    "Fixing the needed max length of the essay text as 1000.<br>\n",
    "Arranging the sequence into similar length of needed max length."
   ]
  },
  {
   "cell_type": "code",
   "execution_count": 33,
   "metadata": {},
   "outputs": [],
   "source": [
    "max_response_length = 1000\n",
    "train_data = pad_sequences(train_sequences, maxlen=max_response_length)\n",
    "test_data = pad_sequences(test_sequences, maxlen=max_response_length)"
   ]
  },
  {
   "cell_type": "code",
   "execution_count": 34,
   "metadata": {},
   "outputs": [
    {
     "data": {
      "text/plain": [
       "array([[  0,   0,   0, ..., 463,   1, 148],\n",
       "       [  0,   0,   0, ...,   7,  70, 166],\n",
       "       [  0,   0,   0, ...,   5, 237,  37],\n",
       "       ...,\n",
       "       [  0,   0,   0, ...,  36, 186, 174],\n",
       "       [  0,   0,   0, ..., 364,   7,   1],\n",
       "       [  0,   0,   0, ...,  93,   9, 331]])"
      ]
     },
     "execution_count": 34,
     "metadata": {},
     "output_type": "execute_result"
    }
   ],
   "source": [
    "test_data"
   ]
  },
  {
   "cell_type": "markdown",
   "metadata": {},
   "source": [
    "Converting the labels array into a list having category of specific score. (To specify the score as Multi Class)"
   ]
  },
  {
   "cell_type": "code",
   "execution_count": 35,
   "metadata": {},
   "outputs": [
    {
     "data": {
      "text/plain": [
       "array([[1., 0., 0., 0.],\n",
       "       [1., 0., 0., 0.],\n",
       "       [1., 0., 0., 0.],\n",
       "       ...,\n",
       "       [0., 0., 0., 1.],\n",
       "       [0., 0., 0., 1.],\n",
       "       [0., 0., 0., 1.]], dtype=float32)"
      ]
     },
     "execution_count": 35,
     "metadata": {},
     "output_type": "execute_result"
    }
   ],
   "source": [
    "train_labels = to_categorical(np.asarray(labels))\n",
    "train_labels"
   ]
  },
  {
   "cell_type": "code",
   "execution_count": 42,
   "metadata": {},
   "outputs": [
    {
     "data": {
      "text/plain": [
       "array([[0., 1., 0., 0.],\n",
       "       [0., 1., 0., 0.],\n",
       "       [0., 0., 0., 1.],\n",
       "       ...,\n",
       "       [0., 1., 0., 0.],\n",
       "       [0., 1., 0., 0.],\n",
       "       [0., 1., 0., 0.]], dtype=float32)"
      ]
     },
     "execution_count": 42,
     "metadata": {},
     "output_type": "execute_result"
    }
   ],
   "source": [
    "labels = list(test_soln['essay_score'])\n",
    "test_labels = to_categorical(np.asarray(labels))\n",
    "test_labels"
   ]
  },
  {
   "cell_type": "code",
   "execution_count": 43,
   "metadata": {},
   "outputs": [
    {
     "name": "stdout",
     "output_type": "stream",
     "text": [
      "Shape of data =  (34250, 1000)\n",
      "Shape of label =  (34250, 4)\n"
     ]
    }
   ],
   "source": [
    "print('Shape of data = ', train_data.shape)\n",
    "print('Shape of label = ', train_labels.shape)"
   ]
  },
  {
   "cell_type": "code",
   "execution_count": 44,
   "metadata": {},
   "outputs": [],
   "source": [
    "# Shuffle the dataset\n",
    "indices = np.arange(train_data.shape[0])\n",
    "np.random.shuffle(indices)\n",
    "train_data = train_data[indices]\n",
    "train_labels = train_labels[indices]"
   ]
  },
  {
   "cell_type": "markdown",
   "metadata": {},
   "source": [
    "##### 2.4 Removal of Stop Words"
   ]
  },
  {
   "cell_type": "code",
   "execution_count": 45,
   "metadata": {},
   "outputs": [],
   "source": [
    "stop_words = set(stopwords.words('english'))"
   ]
  },
  {
   "cell_type": "code",
   "execution_count": null,
   "metadata": {},
   "outputs": [],
   "source": []
  },
  {
   "cell_type": "code",
   "execution_count": 46,
   "metadata": {},
   "outputs": [],
   "source": [
    "lemm = WordNetLemmatizer()"
   ]
  },
  {
   "cell_type": "code",
   "execution_count": 47,
   "metadata": {},
   "outputs": [],
   "source": [
    "train_stop_lemm = []\n",
    "test_stop_lemm = []\n",
    "for x in essay_text:\n",
    "    train_stop_lemm.append([lemm.lemmatize(i) for i in word_tokenize(x) if not i in stop_words])\n",
    "for x in test_essay_text:\n",
    "    test_stop_lemm.append([lemm.lemmatize(i) for i in word_tokenize(x) if not i in stop_words])\n",
    "#stop_lemm"
   ]
  },
  {
   "cell_type": "code",
   "execution_count": null,
   "metadata": {},
   "outputs": [],
   "source": []
  },
  {
   "cell_type": "markdown",
   "metadata": {},
   "source": [
    "Counting words in each essay response after removal of stop words."
   ]
  },
  {
   "cell_type": "code",
   "execution_count": 48,
   "metadata": {},
   "outputs": [],
   "source": [
    "train_word_counts_X = []  \n",
    "test_word_counts_X = []\n",
    "for x in train_stop_lemm:\n",
    "    train_word_counts_X.append(len(x))\n",
    "for x in test_stop_lemm:\n",
    "    test_word_counts_X.append(len(x))\n",
    "#word_counts_X"
   ]
  },
  {
   "cell_type": "markdown",
   "metadata": {},
   "source": [
    "Counting number of sentences in each essay response."
   ]
  },
  {
   "cell_type": "code",
   "execution_count": 49,
   "metadata": {},
   "outputs": [],
   "source": [
    "train_sent_counts = []  \n",
    "test_sent_counts = []\n",
    "for x in essay_text:\n",
    "    train_sent_counts.append(len(sent_tokenize(x)))\n",
    "for x in test_essay_text:\n",
    "    test_sent_counts.append(len(sent_tokenize(x)))\n",
    "#sent_counts"
   ]
  },
  {
   "cell_type": "code",
   "execution_count": null,
   "metadata": {},
   "outputs": [],
   "source": []
  },
  {
   "cell_type": "markdown",
   "metadata": {},
   "source": [
    "Shuffle the features word count, sentence count and essay set."
   ]
  },
  {
   "cell_type": "code",
   "execution_count": 50,
   "metadata": {},
   "outputs": [],
   "source": [
    "train_word_counts_X = np.array(train_word_counts_X)\n",
    "train_word_counts_X = train_word_counts_X[indices]\n",
    "\n",
    "train_sent_counts = np.array(train_sent_counts)\n",
    "train_sent_counts = train_sent_counts[indices]\n",
    "\n",
    "train_essay_set = np.array(essay_set)\n",
    "train_essay_set = train_essay_set[indices]"
   ]
  },
  {
   "cell_type": "markdown",
   "metadata": {},
   "source": [
    "Checking of imbalance in dataset based on essay set id.<br>\n",
    "No imbalance found in the dataset."
   ]
  },
  {
   "cell_type": "code",
   "execution_count": 51,
   "metadata": {},
   "outputs": [
    {
     "data": {
      "text/plain": [
       "Counter({1: 3344,\n",
       "         2: 2556,\n",
       "         3: 3699,\n",
       "         4: 3395,\n",
       "         5: 3590,\n",
       "         6: 3594,\n",
       "         7: 3598,\n",
       "         8: 3598,\n",
       "         9: 3596,\n",
       "         10: 3280})"
      ]
     },
     "execution_count": 51,
     "metadata": {},
     "output_type": "execute_result"
    }
   ],
   "source": [
    "Counter(essay_set)"
   ]
  },
  {
   "cell_type": "markdown",
   "metadata": {},
   "source": [
    "##### 2.5 Split of train and test dataset"
   ]
  },
  {
   "cell_type": "markdown",
   "metadata": {},
   "source": [
    "Train and Test split of features word count, sentence count and essay set.<br>\n",
    "Concatenate those three feature vectors into a feature-set."
   ]
  },
  {
   "cell_type": "code",
   "execution_count": 52,
   "metadata": {},
   "outputs": [],
   "source": [
    "#set_train = essay_set[:train_size]\n",
    "#set_test = essay_set[train_size:]\n",
    "\n",
    "#sent_count_train = sent_counts[:train_size]\n",
    "#sent_count_test = sent_counts[train_size:]\n",
    "\n",
    "#word_count_train = word_counts_X[:train_size]\n",
    "#word_count_test = word_counts_X[train_size:]\n",
    "\n",
    "features_train = np.column_stack((train_essay_set,train_sent_counts,train_word_counts_X))\n",
    "features_test = np.column_stack((test['EssaySet'],test_sent_counts,test_word_counts_X))"
   ]
  },
  {
   "cell_type": "markdown",
   "metadata": {},
   "source": [
    "Train and Test split of data (essay text sequence) and target label."
   ]
  },
  {
   "cell_type": "code",
   "execution_count": 53,
   "metadata": {},
   "outputs": [],
   "source": [
    "X_train = train_data\n",
    "X_test = test_data\n",
    "\n",
    "y_train = train_labels\n",
    "y_test = test_labels"
   ]
  },
  {
   "cell_type": "code",
   "execution_count": null,
   "metadata": {},
   "outputs": [],
   "source": []
  },
  {
   "cell_type": "markdown",
   "metadata": {},
   "source": [
    "Dimensions of Train and Test dataset."
   ]
  },
  {
   "cell_type": "code",
   "execution_count": 54,
   "metadata": {},
   "outputs": [
    {
     "name": "stdout",
     "output_type": "stream",
     "text": [
      "X_train =  (34250, 1000) y_train =  (34250, 4) Features_train =  (34250, 3)\n",
      "X_test =  (5224, 1000) y_test =  (5224, 4) Features_test =  (5224, 3)\n"
     ]
    }
   ],
   "source": [
    "print('X_train = ',X_train.shape, 'y_train = ',y_train.shape, 'Features_train = ', features_train.shape)\n",
    "print('X_test = ',X_test.shape, 'y_test = ',y_test.shape, 'Features_test = ', features_test.shape)"
   ]
  },
  {
   "cell_type": "markdown",
   "metadata": {},
   "source": [
    "### III. Model Building"
   ]
  },
  {
   "cell_type": "markdown",
   "metadata": {},
   "source": [
    "##### 3.1 Instantiate a Keras Tensor."
   ]
  },
  {
   "cell_type": "markdown",
   "metadata": {},
   "source": [
    "Defines Text-Input of batches of 500 dimensional vectors. (max response length taken is 500)."
   ]
  },
  {
   "cell_type": "code",
   "execution_count": 55,
   "metadata": {},
   "outputs": [],
   "source": [
    "text_in = Input(shape=(max_response_length,), name='text')"
   ]
  },
  {
   "cell_type": "markdown",
   "metadata": {},
   "source": [
    "##### 3.2 Building of Embedding Layer"
   ]
  },
  {
   "cell_type": "markdown",
   "metadata": {},
   "source": [
    "Embeddings\n",
    "Used to convert the encoded data i.e the matrix of indices into a form compatible with LSTM.<br>\n",
    "\n",
    "Setting Embedding Layer Parameters:<br>\n",
    "    input_dim = Size of the vocabulary (No. of top most frequent words considered)<br>\n",
    "    output_dim = Size of the vector space in which words will be embedded.<br>\n",
    "    input_length = Length of input sequences."
   ]
  },
  {
   "cell_type": "code",
   "execution_count": 56,
   "metadata": {},
   "outputs": [],
   "source": [
    "embedding_vector_length = 32\n",
    "\n",
    "embedding = Embedding(output_dim=embedding_vector_length, input_dim=top_words, input_length=max_response_length)(text_in)"
   ]
  },
  {
   "cell_type": "markdown",
   "metadata": {},
   "source": [
    "##### 3.3 Building LSTM Network"
   ]
  },
  {
   "cell_type": "markdown",
   "metadata": {},
   "source": [
    "LSTM: Long Short-Term Memory Layer:<br>\n",
    "    Parameters:<br>\n",
    "        units: Dimensionality of the inner cell in LSTM.<br>\n",
    "        return_sequences: To return the full sequence and not the last output."
   ]
  },
  {
   "cell_type": "code",
   "execution_count": 57,
   "metadata": {},
   "outputs": [],
   "source": [
    "lstm_1= LSTM(100, return_sequences = True)(embedding)\n",
    "lstm_2 = LSTM(100)(lstm_1)"
   ]
  },
  {
   "cell_type": "markdown",
   "metadata": {},
   "source": [
    "##### 3.4 Merging of LSTM with Features"
   ]
  },
  {
   "cell_type": "markdown",
   "metadata": {},
   "source": [
    "Create a Feature Input Layer and merge with Output of LSTM."
   ]
  },
  {
   "cell_type": "code",
   "execution_count": 58,
   "metadata": {},
   "outputs": [],
   "source": [
    "features_in = Input(shape=(3,), name='features')\n",
    "X = concatenate([lstm_2, features_in]) \n",
    "dropout = Dropout(0.2)(X)"
   ]
  },
  {
   "cell_type": "markdown",
   "metadata": {},
   "source": [
    "##### 3.5 Building Dense Layer"
   ]
  },
  {
   "cell_type": "markdown",
   "metadata": {},
   "source": [
    "Create a Dense Layer with L2 regularization for weight and bias.<br>\n",
    "With Exponential Linear Unit Activation Function."
   ]
  },
  {
   "cell_type": "code",
   "execution_count": 59,
   "metadata": {},
   "outputs": [
    {
     "name": "stderr",
     "output_type": "stream",
     "text": [
      "D:\\Anaconda\\lib\\site-packages\\ipykernel_launcher.py:2: UserWarning: Update your `Dense` call to the Keras 2 API: `Dense(100, kernel_regularizer=<keras.reg..., bias_regularizer=<keras.reg...)`\n",
      "  \n",
      "D:\\Anaconda\\lib\\site-packages\\ipykernel_launcher.py:6: UserWarning: Update your `Dense` call to the Keras 2 API: `Dense(4, activation=\"softmax\", name=\"output\", kernel_regularizer=<keras.reg..., bias_regularizer=<keras.reg...)`\n",
      "  \n"
     ]
    }
   ],
   "source": [
    "# Hidden Layer\n",
    "D = Dense(100, W_regularizer=l2(0.01), b_regularizer = l2(0.01))(dropout)\n",
    "ED = ELU()(D)\n",
    "\n",
    "# Output Layer\n",
    "out = Dense(4, activation='softmax', name='output', W_regularizer=l2(0.01), b_regularizer = l2(0.01))(ED) "
   ]
  },
  {
   "cell_type": "markdown",
   "metadata": {},
   "source": [
    "##### 3.6 Building Final Model"
   ]
  },
  {
   "cell_type": "code",
   "execution_count": 60,
   "metadata": {},
   "outputs": [
    {
     "name": "stdout",
     "output_type": "stream",
     "text": [
      "Model: \"model_1\"\n",
      "__________________________________________________________________________________________________\n",
      "Layer (type)                    Output Shape         Param #     Connected to                     \n",
      "==================================================================================================\n",
      "text (InputLayer)               (None, 1000)         0                                            \n",
      "__________________________________________________________________________________________________\n",
      "embedding_1 (Embedding)         (None, 1000, 32)     16000       text[0][0]                       \n",
      "__________________________________________________________________________________________________\n",
      "lstm_1 (LSTM)                   (None, 1000, 100)    53200       embedding_1[0][0]                \n",
      "__________________________________________________________________________________________________\n",
      "lstm_2 (LSTM)                   (None, 100)          80400       lstm_1[0][0]                     \n",
      "__________________________________________________________________________________________________\n",
      "features (InputLayer)           (None, 3)            0                                            \n",
      "__________________________________________________________________________________________________\n",
      "concatenate_1 (Concatenate)     (None, 103)          0           lstm_2[0][0]                     \n",
      "                                                                 features[0][0]                   \n",
      "__________________________________________________________________________________________________\n",
      "dropout_1 (Dropout)             (None, 103)          0           concatenate_1[0][0]              \n",
      "__________________________________________________________________________________________________\n",
      "dense_1 (Dense)                 (None, 100)          10400       dropout_1[0][0]                  \n",
      "__________________________________________________________________________________________________\n",
      "elu_1 (ELU)                     (None, 100)          0           dense_1[0][0]                    \n",
      "__________________________________________________________________________________________________\n",
      "output (Dense)                  (None, 4)            404         elu_1[0][0]                      \n",
      "==================================================================================================\n",
      "Total params: 160,404\n",
      "Trainable params: 160,404\n",
      "Non-trainable params: 0\n",
      "__________________________________________________________________________________________________\n"
     ]
    }
   ],
   "source": [
    "model = Model(inputs=[text_in, features_in], outputs=[out])\n",
    "model.summary()"
   ]
  },
  {
   "cell_type": "markdown",
   "metadata": {},
   "source": [
    "##### 3.7 Model Compilation and Fitting"
   ]
  },
  {
   "cell_type": "code",
   "execution_count": 61,
   "metadata": {},
   "outputs": [
    {
     "name": "stderr",
     "output_type": "stream",
     "text": [
      "D:\\Anaconda\\lib\\site-packages\\ipykernel_launcher.py:3: UserWarning: The `nb_epoch` argument in `fit` has been renamed `epochs`.\n",
      "  This is separate from the ipykernel package so we can avoid doing imports until\n"
     ]
    },
    {
     "name": "stdout",
     "output_type": "stream",
     "text": [
      "WARNING:tensorflow:From D:\\Anaconda\\lib\\site-packages\\keras\\backend\\tensorflow_backend.py:422: The name tf.global_variables is deprecated. Please use tf.compat.v1.global_variables instead.\n",
      "\n",
      "Train on 30825 samples, validate on 3425 samples\n",
      "Epoch 1/5\n",
      "30825/30825 [==============================] - 2410s 78ms/step - loss: 1.1708 - accuracy: 0.4829 - val_loss: 0.9062 - val_accuracy: 0.6330\n",
      "Epoch 2/5\n",
      "30825/30825 [==============================] - 2968s 96ms/step - loss: 0.9396 - accuracy: 0.6146 - val_loss: 0.8967 - val_accuracy: 0.6569\n",
      "Epoch 3/5\n",
      "30825/30825 [==============================] - 1738s 56ms/step - loss: 0.8986 - accuracy: 0.6418 - val_loss: 0.8531 - val_accuracy: 0.6896\n",
      "Epoch 4/5\n",
      "30825/30825 [==============================] - 1566s 51ms/step - loss: 0.8710 - accuracy: 0.6550 - val_loss: 0.8837 - val_accuracy: 0.6309\n",
      "Epoch 5/5\n",
      "30825/30825 [==============================] - 2685s 87ms/step - loss: 0.8580 - accuracy: 0.6658 - val_loss: 0.8556 - val_accuracy: 0.6540\n"
     ]
    },
    {
     "data": {
      "text/plain": [
       "<keras.callbacks.callbacks.History at 0x23cb6156908>"
      ]
     },
     "execution_count": 61,
     "metadata": {},
     "output_type": "execute_result"
    }
   ],
   "source": [
    "model.compile(optimizer=Adam(lr=0.01), loss='categorical_crossentropy',metrics=['accuracy'])\n",
    "\n",
    "model.fit([X_train,features_train], y_train, nb_epoch = 5, batch_size=32, validation_split=0.1)  "
   ]
  },
  {
   "cell_type": "markdown",
   "metadata": {},
   "source": [
    "##### 3.8 Model Prediction"
   ]
  },
  {
   "cell_type": "code",
   "execution_count": 72,
   "metadata": {},
   "outputs": [
    {
     "data": {
      "text/plain": [
       "array([[0.7314948 , 0.2367111 , 0.02626219, 0.00553196],\n",
       "       [0.03938145, 0.19920258, 0.591454  , 0.16996193],\n",
       "       [0.04046178, 0.30568957, 0.53388333, 0.11996531],\n",
       "       ...,\n",
       "       [0.15192258, 0.5380405 , 0.28829843, 0.02173853],\n",
       "       [0.09527727, 0.4080859 , 0.4653033 , 0.03133364],\n",
       "       [0.12739821, 0.5188143 , 0.33333185, 0.02045563]], dtype=float32)"
      ]
     },
     "execution_count": 72,
     "metadata": {},
     "output_type": "execute_result"
    }
   ],
   "source": [
    "y_pred = model.predict([X_test, features_test])\n",
    "y_pred"
   ]
  },
  {
   "cell_type": "code",
   "execution_count": 74,
   "metadata": {},
   "outputs": [
    {
     "data": {
      "text/plain": [
       "array([[1, 0, 0, 0],\n",
       "       [0, 0, 1, 0],\n",
       "       [0, 0, 1, 0],\n",
       "       ...,\n",
       "       [0, 1, 0, 0],\n",
       "       [0, 0, 0, 0],\n",
       "       [0, 1, 0, 0]])"
      ]
     },
     "execution_count": 74,
     "metadata": {},
     "output_type": "execute_result"
    }
   ],
   "source": [
    "y_pred = np.where(y_pred >0.5, 1, 0)\n",
    "y_pred"
   ]
  },
  {
   "cell_type": "code",
   "execution_count": 75,
   "metadata": {},
   "outputs": [
    {
     "data": {
      "text/plain": [
       "array([0, 2, 2, ..., 1, 0, 1], dtype=int64)"
      ]
     },
     "execution_count": 75,
     "metadata": {},
     "output_type": "execute_result"
    }
   ],
   "source": [
    "y_pred = np.argmax(y_pred, axis=1)\n",
    "y_pred"
   ]
  },
  {
   "cell_type": "markdown",
   "metadata": {},
   "source": [
    "##### 3.9 Model Evaluation"
   ]
  },
  {
   "cell_type": "code",
   "execution_count": 76,
   "metadata": {},
   "outputs": [
    {
     "name": "stdout",
     "output_type": "stream",
     "text": [
      "5224/5224 [==============================] - 177s 34ms/step\n",
      "Accuracy: 62.73%\n"
     ]
    },
    {
     "data": {
      "text/plain": [
       "[0.9413729295431198, 0.6272971034049988]"
      ]
     },
     "execution_count": 76,
     "metadata": {},
     "output_type": "execute_result"
    }
   ],
   "source": [
    "scores = model.evaluate([X_test,features_test], y_test, verbose=1)\n",
    "print(\"Accuracy: %.2f%%\" % (scores[1]*100))\n",
    "scores"
   ]
  },
  {
   "cell_type": "markdown",
   "metadata": {},
   "source": [
    "Quadratic Weighted Kappa"
   ]
  },
  {
   "cell_type": "code",
   "execution_count": 82,
   "metadata": {},
   "outputs": [],
   "source": [
    "def Cmatrix(rater_a, rater_b, min_rating=None, max_rating=None):\n",
    "    assert(len(rater_a) == len(rater_b))\n",
    "    if min_rating is None:\n",
    "        min_rating = min(rater_a + rater_b)\n",
    "    if max_rating is None:\n",
    "        max_rating = max(rater_a + rater_b)\n",
    "    num_ratings = int(max_rating - min_rating + 1)\n",
    "    conf_mat = [[0 for i in range(num_ratings)]\n",
    "                for j in range(num_ratings)]\n",
    "    for a, b in zip(rater_a, rater_b):\n",
    "        conf_mat[a - min_rating][b - min_rating] += 1\n",
    "    return conf_mat\n",
    "\n",
    "\n",
    "def histogram(ratings, min_rating=None, max_rating=None):\n",
    "    if min_rating is None:\n",
    "        min_rating = min(ratings)\n",
    "    if max_rating is None:\n",
    "        max_rating = max(ratings)\n",
    "    num_ratings = int(max_rating - min_rating + 1)\n",
    "    hist_ratings = [0 for x in range(num_ratings)]\n",
    "    for r in ratings:\n",
    "        hist_ratings[r - min_rating] += 1\n",
    "    return hist_ratings"
   ]
  },
  {
   "cell_type": "code",
   "execution_count": 83,
   "metadata": {},
   "outputs": [],
   "source": [
    "def quadratic_weighted_kappa(y, y_pred):\n",
    "    rater_a = y\n",
    "    rater_b = y_pred\n",
    "    min_rating=None\n",
    "    max_rating=None\n",
    "    rater_a = np.array(rater_a, dtype=int)\n",
    "    rater_b = np.array(rater_b, dtype=int)\n",
    "    assert(len(rater_a) == len(rater_b))\n",
    "    if min_rating is None:\n",
    "        min_rating = min(min(rater_a), min(rater_b))\n",
    "    if max_rating is None:\n",
    "        max_rating = max(max(rater_a), max(rater_b))\n",
    "    conf_mat = Cmatrix(rater_a, rater_b,\n",
    "                                min_rating, max_rating)\n",
    "    num_ratings = len(conf_mat)\n",
    "    num_scored_items = float(len(rater_a))\n",
    "\n",
    "    hist_rater_a = histogram(rater_a, min_rating, max_rating)\n",
    "    hist_rater_b = histogram(rater_b, min_rating, max_rating)\n",
    "\n",
    "    numerator = 0.0\n",
    "    denominator = 0.0\n",
    "\n",
    "    for i in range(num_ratings):\n",
    "        for j in range(num_ratings):\n",
    "            expected_count = (hist_rater_a[i] * hist_rater_b[j]\n",
    "                              / num_scored_items)\n",
    "            d = pow(i - j, 2.0) / pow(num_ratings - 1, 2.0)\n",
    "            numerator += d * conf_mat[i][j] / num_scored_items\n",
    "            denominator += d * expected_count / num_scored_items\n",
    "\n",
    "    return (1.0 - numerator / denominator)"
   ]
  },
  {
   "cell_type": "code",
   "execution_count": 80,
   "metadata": {},
   "outputs": [
    {
     "data": {
      "text/plain": [
       "array([1, 1, 3, ..., 1, 1, 1], dtype=int64)"
      ]
     },
     "execution_count": 80,
     "metadata": {},
     "output_type": "execute_result"
    }
   ],
   "source": [
    "y_test = np.argmax(y_test, axis=1)\n",
    "y_test"
   ]
  },
  {
   "cell_type": "code",
   "execution_count": 84,
   "metadata": {},
   "outputs": [
    {
     "data": {
      "text/plain": [
       "0.6062343910238246"
      ]
     },
     "execution_count": 84,
     "metadata": {},
     "output_type": "execute_result"
    }
   ],
   "source": [
    "quadratic_weighted_kappa(y_test, y_pred)"
   ]
  },
  {
   "cell_type": "code",
   "execution_count": null,
   "metadata": {},
   "outputs": [],
   "source": []
  }
 ],
 "metadata": {
  "kernelspec": {
   "display_name": "Python 3",
   "language": "python",
   "name": "python3"
  },
  "language_info": {
   "codemirror_mode": {
    "name": "ipython",
    "version": 3
   },
   "file_extension": ".py",
   "mimetype": "text/x-python",
   "name": "python",
   "nbconvert_exporter": "python",
   "pygments_lexer": "ipython3",
   "version": "3.8.5"
  }
 },
 "nbformat": 4,
 "nbformat_minor": 4
}
